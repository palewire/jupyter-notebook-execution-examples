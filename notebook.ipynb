{
 "cells": [
  {
   "cell_type": "markdown",
   "metadata": {},
   "source": [
    "# Jupyter Notebook execution examples\n",
    "\n",
    "By [Ben Welsh](http://palewi.re/who-is-ben-welsh/)\n",
    "\n",
    "Examples of how to remotely execute Jupyter Notebooks from other contexts. For this demonstration the notebook being run is at [src/run_me.ipynb](./src/run_me.ipynb)."
   ]
  },
  {
   "cell_type": "markdown",
   "metadata": {},
   "source": [
    "### From another notebook\n",
    "\n",
    "Using the [`%run` magic command](https://ipython.readthedocs.io/en/stable/interactive/magics.html#magic-run)."
   ]
  },
  {
   "cell_type": "code",
   "execution_count": 17,
   "metadata": {},
   "outputs": [
    {
     "name": "stdout",
     "output_type": "stream",
     "text": [
      "Hello World\n"
     ]
    }
   ],
   "source": [
    "%run src/run_me.ipynb"
   ]
  },
  {
   "cell_type": "markdown",
   "metadata": {},
   "source": [
    "### From the command line\n",
    "\n",
    "Demonstrated here from inside a notebook. Run it from your terminal without the `!` on front. There are a lot of options to write the results to stdout or other notebooks or wherever but I'm going to keep it simple. Read more about it [here](http://nbconvert.readthedocs.io/en/latest/execute_api.html)."
   ]
  },
  {
   "cell_type": "code",
   "execution_count": 18,
   "metadata": {},
   "outputs": [
    {
     "name": "stdout",
     "output_type": "stream",
     "text": [
      "[NbConvertApp] Converting notebook src/run_me.ipynb to notebook\n",
      "[NbConvertApp] Executing notebook with kernel: python2\n",
      "[NbConvertApp] Writing 699 bytes to src/run_me.nbconvert.ipynb\n"
     ]
    }
   ],
   "source": [
    "!jupyter nbconvert --to notebook --execute src/run_me.ipynb"
   ]
  },
  {
   "cell_type": "markdown",
   "metadata": {},
   "source": [
    "### From Python"
   ]
  },
  {
   "cell_type": "code",
   "execution_count": 19,
   "metadata": {},
   "outputs": [],
   "source": [
    "import nbformat\n",
    "from nbconvert.preprocessors import ExecutePreprocessor"
   ]
  },
  {
   "cell_type": "code",
   "execution_count": 20,
   "metadata": {},
   "outputs": [],
   "source": [
    "with open(\"src/run_me.ipynb\") as f:\n",
    "    nb = nbformat.read(f, as_version=4)"
   ]
  },
  {
   "cell_type": "code",
   "execution_count": 21,
   "metadata": {},
   "outputs": [],
   "source": [
    "ep = ExecutePreprocessor(timeout=600, kernel_name='python2')"
   ]
  },
  {
   "cell_type": "code",
   "execution_count": 22,
   "metadata": {},
   "outputs": [
    {
     "data": {
      "text/plain": [
       "({u'cells': [{u'cell_type': u'code',\n",
       "    u'execution_count': 1,\n",
       "    u'metadata': {},\n",
       "    u'outputs': [{'name': u'stdout',\n",
       "      'output_type': u'stream',\n",
       "      'text': u'Hello World\\n'}],\n",
       "    u'source': u'print(\"Hello World\")'}],\n",
       "  u'metadata': {u'kernelspec': {u'display_name': u'Python 2',\n",
       "    u'language': u'python',\n",
       "    u'name': u'python2'},\n",
       "   u'language_info': {u'codemirror_mode': {u'name': u'ipython', u'version': 2},\n",
       "    u'file_extension': u'.py',\n",
       "    u'mimetype': u'text/x-python',\n",
       "    u'name': u'python',\n",
       "    u'nbconvert_exporter': u'python',\n",
       "    u'pygments_lexer': u'ipython2',\n",
       "    u'version': u'2.7.12'}},\n",
       "  u'nbformat': 4,\n",
       "  u'nbformat_minor': 2},\n",
       " {'metadata': {'path': 'src/'}})"
      ]
     },
     "execution_count": 22,
     "metadata": {},
     "output_type": "execute_result"
    }
   ],
   "source": [
    "ep.preprocess(nb, {'metadata': {'path': 'src/'}})"
   ]
  }
 ],
 "metadata": {
  "kernelspec": {
   "display_name": "Python 2",
   "language": "python",
   "name": "python2"
  },
  "language_info": {
   "codemirror_mode": {
    "name": "ipython",
    "version": 2
   },
   "file_extension": ".py",
   "mimetype": "text/x-python",
   "name": "python",
   "nbconvert_exporter": "python",
   "pygments_lexer": "ipython2",
   "version": "2.7.12"
  }
 },
 "nbformat": 4,
 "nbformat_minor": 2
}
